{
 "cells": [
  {
   "cell_type": "code",
   "execution_count": 1,
   "metadata": {},
   "outputs": [],
   "source": [
    "board = [[7, 8, 9], \n",
    "        [4, 5, 6],\n",
    "        [1, 2, 3]]"
   ]
  },
  {
   "cell_type": "code",
   "execution_count": null,
   "metadata": {},
   "outputs": [],
   "source": []
  },
  {
   "cell_type": "code",
   "execution_count": 2,
   "metadata": {},
   "outputs": [],
   "source": [
    "def checkx ():\n",
    "    if 'x' == board [0][0] and 'x' == board [1][0] and 'x' == board [2][0]:\n",
    "        print('x won')\n",
    "        GC = False\n",
    "    elif 'x' == board [0][1] and 'x' == board [1][1] and 'x' == board [1][2]:\n",
    "        print('x won')\n",
    "        GC = False\n",
    "    elif 'x' == board [0][2] and 'x' == board [1][2] and 'x' == board [2][2]:\n",
    "        print('x won')\n",
    "        GC = False\n",
    "    elif 'x' == board [0][0] and 'x' == board [0][1] and 'x' == board [0][2]:\n",
    "        print('x won')\n",
    "        GC = False\n",
    "    elif 'x' == board [1][0] and 'x' == board [1][1] and 'x' == board [1][2]:\n",
    "        print('x won')\n",
    "        GC = False\n",
    "    elif 'x' == board [2][0] and 'x' == board [2][1] and 'x' == board [2][2]:\n",
    "        print('x won')\n",
    "        GC = False\n",
    "    elif 'x' == board [0][0] and 'x' == board [1][1] and 'x' == board [2][2]:\n",
    "        print('x won')\n",
    "        GC = False\n",
    "    elif 'x' == board [2][0] and 'x' == board [1][1] and 'x' == board [0][2]:\n",
    "        print('x won')\n",
    "        GC = False\n",
    "    else:\n",
    "        GC = True\n",
    "    \n",
    "    return GC"
   ]
  },
  {
   "cell_type": "code",
   "execution_count": 3,
   "metadata": {},
   "outputs": [],
   "source": [
    "def checko ():\n",
    "    if 'o' == board [0][0] and 'o' == board [1][0] and 'o' == board [2][0]:\n",
    "        print('o won')\n",
    "        GC = False\n",
    "    elif 'o' == board [0][1] and 'o' == board [1][1] and 'o' == board [1][2]:\n",
    "        print('o won')\n",
    "        GC = False\n",
    "    elif 'o' == board [0][2] and 'o' == board [1][2] and 'o' == board [2][2]:\n",
    "        print('o won')\n",
    "        GC = False\n",
    "    elif 'o' == board [0][0] and 'o' == board [0][1] and 'o' == board [0][2]:\n",
    "        print('o won')\n",
    "        GC = False\n",
    "    elif 'o' == board [1][0] and 'o' == board [1][1] and 'o' == board [1][2]:\n",
    "        print('o won')\n",
    "        GC = False\n",
    "    elif 'o' == board [2][0] and 'o' == board [2][1] and 'o' == board [2][2]:\n",
    "        print('o won')\n",
    "        GC = False\n",
    "    elif 'o' == board [0][0] and 'o' == board [1][1] and 'o' == board [2][2]:\n",
    "        print('o won')\n",
    "        GC = False\n",
    "    elif 'o' == board [2][0] and 'o' == board [1][1] and 'o' == board [0][2]:\n",
    "        print('o won')\n",
    "        GC = False\n",
    "    else:\n",
    "        GC = True\n",
    "    return GC"
   ]
  },
  {
   "cell_type": "code",
   "execution_count": 4,
   "metadata": {},
   "outputs": [
    {
     "name": "stdout",
     "output_type": "stream",
     "text": [
      "welcome choose your symbol!\n"
     ]
    }
   ],
   "source": [
    "print('welcome choose your symbol!')"
   ]
  },
  {
   "cell_type": "code",
   "execution_count": 5,
   "metadata": {},
   "outputs": [
    {
     "name": "stdout",
     "output_type": "stream",
     "text": [
      "x\n",
      "o\n"
     ]
    }
   ],
   "source": [
    "P1 = input()\n",
    "P2 = input()"
   ]
  },
  {
   "cell_type": "code",
   "execution_count": 6,
   "metadata": {},
   "outputs": [
    {
     "name": "stdout",
     "output_type": "stream",
     "text": [
      "P1 is first to play\n"
     ]
    }
   ],
   "source": [
    "if P1 == 'x':\n",
    "    print('P1 is first to play')\n",
    "elif P1 == 'o':\n",
    "    print('P1 is second to play')\n",
    "else:\n",
    "    print('choose either x or o, try again')\n",
    "    P1 = input()"
   ]
  },
  {
   "cell_type": "code",
   "execution_count": 7,
   "metadata": {},
   "outputs": [
    {
     "name": "stdout",
     "output_type": "stream",
     "text": [
      "P2 is second to play\n"
     ]
    }
   ],
   "source": [
    "if P2 == 'x':\n",
    "    print('P2 is first to play')\n",
    "elif P2 == 'o':\n",
    "    print('P2 is second to play')\n",
    "else:\n",
    "    print('choose either x or o, try again')\n",
    "    P2 = input()"
   ]
  },
  {
   "cell_type": "code",
   "execution_count": 8,
   "metadata": {},
   "outputs": [
    {
     "name": "stdout",
     "output_type": "stream",
     "text": [
      "lets start\n"
     ]
    }
   ],
   "source": [
    "print('lets start')"
   ]
  },
  {
   "cell_type": "code",
   "execution_count": 9,
   "metadata": {},
   "outputs": [
    {
     "name": "stdout",
     "output_type": "stream",
     "text": [
      "[7, 8, 9]\n",
      "[4, 5, 6]\n",
      "[1, 2, 3]\n"
     ]
    }
   ],
   "source": [
    "print(board[0])\n",
    "print(board[1])\n",
    "print(board[2])"
   ]
  },
  {
   "cell_type": "code",
   "execution_count": 10,
   "metadata": {},
   "outputs": [
    {
     "name": "stdout",
     "output_type": "stream",
     "text": [
      "first move: x choose between 1~9\n",
      "5\n"
     ]
    }
   ],
   "source": [
    "print('first move: x choose between 1~9')\n",
    "M1 = int(input())\n"
   ]
  },
  {
   "cell_type": "code",
   "execution_count": 11,
   "metadata": {},
   "outputs": [],
   "source": [
    "for i in range(2):\n",
    "    for j in range(2):\n",
    "        if M1 == board[i][j]:\n",
    "            board[i][j]= 'x'\n"
   ]
  },
  {
   "cell_type": "code",
   "execution_count": 12,
   "metadata": {},
   "outputs": [
    {
     "name": "stdout",
     "output_type": "stream",
     "text": [
      "[7, 8, 9]\n",
      "[4, 'x', 6]\n",
      "[1, 2, 3]\n"
     ]
    }
   ],
   "source": [
    "print(board[0])\n",
    "print(board[1])\n",
    "print(board[2])"
   ]
  },
  {
   "cell_type": "code",
   "execution_count": 13,
   "metadata": {},
   "outputs": [
    {
     "name": "stdout",
     "output_type": "stream",
     "text": [
      "next move: o choose between 1~9\n",
      "2\n"
     ]
    }
   ],
   "source": [
    "print('next move: o choose between 1~9')\n",
    "M2 = int(input())\n"
   ]
  },
  {
   "cell_type": "code",
   "execution_count": 14,
   "metadata": {},
   "outputs": [],
   "source": [
    "for i in range(3):\n",
    "    for j in range(3):\n",
    "        #print(j)\n",
    "        if M2 == board[i][j]:\n",
    "            board[i][j]= 'o'\n"
   ]
  },
  {
   "cell_type": "code",
   "execution_count": 17,
   "metadata": {},
   "outputs": [
    {
     "data": {
      "text/plain": [
       "True"
      ]
     },
     "execution_count": 17,
     "metadata": {},
     "output_type": "execute_result"
    }
   ],
   "source": [
    "checkx()"
   ]
  },
  {
   "cell_type": "code",
   "execution_count": 19,
   "metadata": {},
   "outputs": [
    {
     "data": {
      "text/plain": [
       "True"
      ]
     },
     "execution_count": 19,
     "metadata": {},
     "output_type": "execute_result"
    }
   ],
   "source": [
    "checko()"
   ]
  },
  {
   "cell_type": "code",
   "execution_count": 21,
   "metadata": {},
   "outputs": [],
   "source": [
    "GC = True"
   ]
  },
  {
   "cell_type": "code",
   "execution_count": 15,
   "metadata": {},
   "outputs": [
    {
     "name": "stdout",
     "output_type": "stream",
     "text": [
      "[7, 8, 9]\n",
      "[4, 'x', 6]\n",
      "[1, 'o', 3]\n"
     ]
    }
   ],
   "source": [
    "print(board[0])\n",
    "print(board[1])\n",
    "print(board[2])"
   ]
  },
  {
   "cell_type": "code",
   "execution_count": 22,
   "metadata": {},
   "outputs": [
    {
     "name": "stdout",
     "output_type": "stream",
     "text": [
      "next move: o choose between 1~9\n",
      "3\n"
     ]
    }
   ],
   "source": [
    "if GC == True:\n",
    "    print('next move: o choose between 1~9')\n",
    "    M3 = int(input())"
   ]
  },
  {
   "cell_type": "code",
   "execution_count": 23,
   "metadata": {},
   "outputs": [],
   "source": [
    "for i in range(3):\n",
    "    for j in range(3):\n",
    "        #print(j)\n",
    "        if M3 == board[i][j]:\n",
    "            board[i][j]= 'x'"
   ]
  },
  {
   "cell_type": "code",
   "execution_count": 24,
   "metadata": {},
   "outputs": [
    {
     "data": {
      "text/plain": [
       "True"
      ]
     },
     "execution_count": 24,
     "metadata": {},
     "output_type": "execute_result"
    }
   ],
   "source": [
    "checkx()"
   ]
  },
  {
   "cell_type": "code",
   "execution_count": 25,
   "metadata": {},
   "outputs": [
    {
     "data": {
      "text/plain": [
       "True"
      ]
     },
     "execution_count": 25,
     "metadata": {},
     "output_type": "execute_result"
    }
   ],
   "source": [
    "checko()"
   ]
  },
  {
   "cell_type": "code",
   "execution_count": 26,
   "metadata": {},
   "outputs": [
    {
     "name": "stdout",
     "output_type": "stream",
     "text": [
      "[7, 8, 9]\n",
      "[4, 'x', 6]\n",
      "[1, 'o', 'x']\n"
     ]
    }
   ],
   "source": [
    "print(board[0])\n",
    "print(board[1])\n",
    "print(board[2])"
   ]
  },
  {
   "cell_type": "code",
   "execution_count": null,
   "metadata": {},
   "outputs": [],
   "source": [
    "if checkx() == True and checko() == True\n",
    "    print('next move: o choose between 1~9')\n",
    "    M4 = int(input())"
   ]
  },
  {
   "cell_type": "code",
   "execution_count": null,
   "metadata": {},
   "outputs": [],
   "source": [
    "for i in range(3):\n",
    "    for j in range(3):\n",
    "        #print(j)\n",
    "        if M4 == board[i][j]:\n",
    "            board[i][j]= 'o'"
   ]
  },
  {
   "cell_type": "code",
   "execution_count": null,
   "metadata": {},
   "outputs": [],
   "source": [
    "print(board[0])\n",
    "print(board[1])\n",
    "print(board[2])"
   ]
  },
  {
   "cell_type": "code",
   "execution_count": null,
   "metadata": {},
   "outputs": [],
   "source": [
    "if GC == True:\n",
    "    print('next move: o choose between 1~9')\n",
    "    M5 = int(input())"
   ]
  },
  {
   "cell_type": "code",
   "execution_count": null,
   "metadata": {},
   "outputs": [],
   "source": [
    "for i in range(3):\n",
    "    for j in range(3):\n",
    "        #print(j)\n",
    "        if M5 == board[i][j]:\n",
    "            board[i][j]= 'x'"
   ]
  },
  {
   "cell_type": "code",
   "execution_count": null,
   "metadata": {},
   "outputs": [],
   "source": [
    "if GC == True:\n",
    "    print('next move: o choose between 1~9')\n",
    "    M6 = int(input())\n",
    "else:\n",
    "    print('endgame')"
   ]
  },
  {
   "cell_type": "code",
   "execution_count": null,
   "metadata": {},
   "outputs": [],
   "source": [
    "for i in range(3):\n",
    "    for j in range(3):\n",
    "        #print(j)\n",
    "        if M6 == board[i][j]:\n",
    "            board[i][j]= 'x'"
   ]
  },
  {
   "cell_type": "code",
   "execution_count": null,
   "metadata": {},
   "outputs": [],
   "source": [
    "if GC == True:\n",
    "    print('next move: o choose between 1~9')\n",
    "    M7 = int(input())\n",
    "else:\n",
    "    print('endgame')"
   ]
  },
  {
   "cell_type": "code",
   "execution_count": null,
   "metadata": {},
   "outputs": [],
   "source": [
    "for i in range(3):\n",
    "    for j in range(3):\n",
    "        #print(j)\n",
    "        if M7 == board[i][j]:\n",
    "            board[i][j]= 'x'"
   ]
  },
  {
   "cell_type": "code",
   "execution_count": null,
   "metadata": {},
   "outputs": [],
   "source": [
    "if GC == True:\n",
    "    print('next move: o choose between 1~9')\n",
    "    M8 = int(input())\n",
    "else:\n",
    "    print('endgame')"
   ]
  },
  {
   "cell_type": "code",
   "execution_count": null,
   "metadata": {},
   "outputs": [],
   "source": [
    "for i in range(3):\n",
    "    for j in range(3):\n",
    "        #print(j)\n",
    "        if M8 == board[i][j]:\n",
    "            board[i][j]= 'x'"
   ]
  },
  {
   "cell_type": "code",
   "execution_count": null,
   "metadata": {},
   "outputs": [],
   "source": [
    "if GC == True:\n",
    "    print('next move: o choose between 1~9')\n",
    "    M9 = int(input())\n",
    "else:\n",
    "    print('endgame')"
   ]
  },
  {
   "cell_type": "code",
   "execution_count": null,
   "metadata": {},
   "outputs": [],
   "source": [
    "for i in range(3):\n",
    "    for j in range(3):\n",
    "        #print(j)\n",
    "        if M9 == board[i][j]:\n",
    "            board[i][j]= 'x'"
   ]
  },
  {
   "cell_type": "code",
   "execution_count": null,
   "metadata": {},
   "outputs": [],
   "source": [
    "print ('if nobody won its a Draw')"
   ]
  },
  {
   "cell_type": "code",
   "execution_count": null,
   "metadata": {},
   "outputs": [],
   "source": []
  }
 ],
 "metadata": {
  "kernelspec": {
   "display_name": "Python 3",
   "language": "python",
   "name": "python3"
  },
  "language_info": {
   "codemirror_mode": {
    "name": "ipython",
    "version": 3
   },
   "file_extension": ".py",
   "mimetype": "text/x-python",
   "name": "python",
   "nbconvert_exporter": "python",
   "pygments_lexer": "ipython3",
   "version": "3.7.1"
  }
 },
 "nbformat": 4,
 "nbformat_minor": 2
}
